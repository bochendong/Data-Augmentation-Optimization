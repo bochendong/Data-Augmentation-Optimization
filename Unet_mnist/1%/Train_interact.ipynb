{
  "cells": [
    {
      "cell_type": "code",
      "execution_count": 1,
      "metadata": {
        "id": "2eQW6LsWGn9g"
      },
      "outputs": [],
      "source": [
        "import torch\n",
        "import torch.nn as nn\n",
        "import torch.nn.functional as F\n",
        "import torch.optim as optim\n",
        "import matplotlib.pyplot as plt\n",
        "import torchvision\n",
        "from torchvision import datasets, transforms, models\n",
        "import numpy as np\n",
        "import random\n",
        "from torchvision.utils import save_image\n",
        "import os\n",
        "from torch.optim.lr_scheduler import StepLR\n",
        "import glob\n",
        "import cv2\n",
        "import math\n",
        "from torch.utils.data import TensorDataset\n",
        "from torch.utils.data import DataLoader\n",
        "from torch.utils.data import Subset"
      ]
    },
    {
      "cell_type": "code",
      "execution_count": 2,
      "metadata": {
        "id": "NLcUwp5eGn9h"
      },
      "outputs": [],
      "source": [
        "UNET_PATH = 'model_weight/unet_small.pth'\n",
        "DNN_PATH = 'model_weight/dnn_small.pth'\n",
        "num_epochs = 100\n",
        "dnn_epoch = 300\n",
        "\n",
        "# Hyperparameters\n",
        "BATCH_SIZE = 256 + 128\n",
        "\n",
        "MNIST = True\n",
        "CIFAR10 = False\n",
        "\n",
        "# Network Training Settings\n",
        "Train_BASE_DNN = True\n",
        "Train_Unet = True\n",
        "\n",
        "if (os.path.exists(DNN_PATH)) == True:\n",
        "    Train_BASE_DNN = False\n",
        "\n",
        "if (os.path.exists(UNET_PATH)) == True:\n",
        "    Train_Unet = False"
      ]
    },
    {
      "cell_type": "code",
      "execution_count": 3,
      "metadata": {
        "id": "lQwGZoyoGn9h"
      },
      "outputs": [],
      "source": [
        "if (os.path.exists(\"./output\")) == False:\n",
        "    os.mkdir(\"output\")\n",
        "\n",
        "if (os.path.exists(\"./model_weight\")) == False:\n",
        "    os.mkdir(\"model_weight\")\n",
        "\n",
        "if (os.path.exists(\"./test_out\")) == False:\n",
        "    os.mkdir(\"test_out\")\n",
        "\n",
        "for epoch in range (num_epochs):\n",
        "    if (os.path.exists(\"./output/%03d\" % epoch)) == False:\n",
        "        os.mkdir(\"./output/%03d\" % epoch)\n",
        "    else:\n",
        "        files = glob.glob(\"./output/%03d/*.png\" % epoch)\n",
        "\n",
        "        for f in files:\n",
        "          os.remove(f)"
      ]
    },
    {
      "cell_type": "code",
      "execution_count": 4,
      "metadata": {
        "id": "fknwDfwHGn9h"
      },
      "outputs": [],
      "source": [
        "train_dataset = datasets.MNIST('data', train=True, download=True, \n",
        "                       transform=transforms.Compose([\n",
        "                           transforms.Resize(32),\n",
        "                           transforms.ToTensor()\n",
        "                       ]))\n",
        "\n",
        "train_loader = torch.utils.data.DataLoader(train_dataset, batch_size=BATCH_SIZE, shuffle=True, drop_last=True)\n",
        "\n",
        "test_dataset =  datasets.MNIST('data', train=False, transform=transforms.Compose([\n",
        "                           transforms.Resize(32),\n",
        "                           transforms.ToTensor()\n",
        "                       ]))\n",
        "test_loader = torch.utils.data.DataLoader(test_dataset, batch_size=BATCH_SIZE, shuffle=False, drop_last=True)\n",
        "\n",
        "\n",
        "num_samples = int(len(train_dataset) * 0.01)\n",
        "indices = np.random.choice(len(train_dataset), num_samples, replace=False)\n",
        "\n",
        "train_dataset_small = Subset(train_dataset, indices)\n",
        "train_loader = torch.utils.data.DataLoader(train_dataset_small, batch_size=BATCH_SIZE, shuffle=True)\n"
      ]
    },
    {
      "cell_type": "markdown",
      "metadata": {
        "id": "q_vY-uJOGn9h"
      },
      "source": [
        "# VGG"
      ]
    },
    {
      "cell_type": "code",
      "execution_count": 5,
      "metadata": {
        "id": "5qbOT3OdGn9i"
      },
      "outputs": [],
      "source": [
        "class VGG11(nn.Module):\n",
        "    def __init__(self, num_classes=10):\n",
        "        super(VGG11, self).__init__()\n",
        "        self.features = nn.Sequential(\n",
        "            nn.Conv2d(1, 64, kernel_size=3, padding=1),\n",
        "            nn.ReLU(inplace=True),\n",
        "            nn.MaxPool2d(kernel_size=2, stride=2),\n",
        "            nn.Conv2d(64, 128, kernel_size=3, padding=1),\n",
        "            nn.ReLU(inplace=True),\n",
        "            nn.MaxPool2d(kernel_size=2, stride=2),\n",
        "            nn.Conv2d(128, 256, kernel_size=3, padding=1),\n",
        "            nn.ReLU(inplace=True),\n",
        "            nn.Conv2d(256, 256, kernel_size=3, padding=1),\n",
        "            nn.ReLU(inplace=True),\n",
        "            nn.MaxPool2d(kernel_size=2, stride=2),\n",
        "            nn.Conv2d(256, 512, kernel_size=3, padding=1),\n",
        "            nn.ReLU(inplace=True),\n",
        "            nn.Conv2d(512, 512, kernel_size=3, padding=1),\n",
        "            nn.ReLU(inplace=True),\n",
        "            nn.MaxPool2d(kernel_size=2, stride=2),\n",
        "            nn.Conv2d(512, 512, kernel_size=3, padding=1),\n",
        "            nn.ReLU(inplace=True),\n",
        "            nn.Conv2d(512, 512, kernel_size=3, padding=1),\n",
        "            nn.ReLU(inplace=True),\n",
        "            nn.MaxPool2d(kernel_size=2, stride=2)\n",
        "        )\n",
        "        self.avgpool = nn.AdaptiveAvgPool2d((1, 1))\n",
        "        self.classifier = nn.Sequential(\n",
        "            nn.Linear(512, 4096),\n",
        "            nn.ReLU(inplace=True),\n",
        "            nn.Linear(4096, 4096),\n",
        "            nn.ReLU(inplace=True),\n",
        "            nn.Linear(4096, num_classes)\n",
        "        )\n",
        "\n",
        "    def forward(self, x):\n",
        "        x = self.features(x)\n",
        "        x = self.avgpool(x)\n",
        "        x = torch.flatten(x, 1)\n",
        "        x = self.classifier(x)\n",
        "        return x"
      ]
    },
    {
      "cell_type": "code",
      "execution_count": 6,
      "metadata": {
        "id": "irI2VbZ3Gn9i"
      },
      "outputs": [],
      "source": [
        "dnn_criterion = nn.CrossEntropyLoss()\n",
        "\n",
        "def dnn_test(dnn_model, test_loader):\n",
        "    total = 0\n",
        "    total_correct = 0\n",
        "    test_loss = 0\n",
        "\n",
        "    for i, (images, labels) in enumerate(test_loader):\n",
        "        images = images.cuda()\n",
        "        labels = labels.cuda()\n",
        "\n",
        "        outputs = dnn_model(images)\n",
        "        loss = dnn_criterion(outputs, labels)\n",
        "\n",
        "        _, pred = torch.max(outputs, 1)\n",
        "        correct = pred.eq(labels).cpu().sum().item()\n",
        "        total_correct += correct\n",
        "        total += labels.size(0)\n",
        "\n",
        "        test_loss += loss.item()\n",
        "\n",
        "    test_loss /= len(test_loader)\n",
        "\n",
        "    return total_correct / total, test_loss"
      ]
    },
    {
      "cell_type": "code",
      "execution_count": 7,
      "metadata": {
        "id": "wwWy8f1IGn9i"
      },
      "outputs": [],
      "source": [
        "if (Train_BASE_DNN):\n",
        "    dnn_model = VGG11().cuda()\n",
        "    dnn_optimizer = torch.optim.Adam(dnn_model.parameters(), lr=1e-4)\n",
        "\n",
        "    print(\"Training DNN classifier...\")\n",
        "    acc_history = []\n",
        "    test_acc_history = []\n",
        "    for epoch in range(dnn_epoch):\n",
        "        total = 0\n",
        "        total_correct = 0\n",
        "        for i, (images, labels) in enumerate(train_loader):\n",
        "            images = images.cuda()\n",
        "            labels = labels.cuda()\n",
        "\n",
        "            # Forward pass\n",
        "            outputs = dnn_model(images)\n",
        "            loss = dnn_criterion(outputs, labels)\n",
        "\n",
        "            # Backward pass and optimization\n",
        "            dnn_optimizer.zero_grad()\n",
        "            loss.backward()\n",
        "            dnn_optimizer.step()\n",
        "\n",
        "            _, pred = torch.max(outputs, 1)\n",
        "            correct = pred.eq(labels).cpu().sum().item()\n",
        "            total_correct += correct\n",
        "            total += labels.size(0)\n",
        "\n",
        "        acc_history.append(total_correct / total)\n",
        "        test_acc_history.append(dnn_test(dnn_model, test_loader)[0])\n",
        "    \n",
        "        if((epoch + 1) % 10 == 0):\n",
        "            print(f'Epoch {epoch + 1}/{dnn_epoch}', end = ', ')\n",
        "            print('acc:',acc_history[-1], 'test_acc:', test_acc_history[-1])\n",
        "        \n",
        "    print(\"DNN classifier training complete.\")\n",
        "    torch.save(dnn_model.state_dict(), DNN_PATH)\n",
        "\n",
        "    plt.plot(range(0, dnn_epoch), acc_history)\n",
        "    plt.plot(range(0, dnn_epoch), test_acc_history)\n",
        "    plt.ylim(0, 1)\n",
        "    plt.title(\"Train and test acc on VGG11\")"
      ]
    },
    {
      "cell_type": "code",
      "execution_count": 8,
      "metadata": {
        "colab": {
          "base_uri": "https://localhost:8080/"
        },
        "id": "3gDu_Ri7Gn9j",
        "outputId": "4bdaccdf-9fec-438c-be4d-887fd51977ee"
      },
      "outputs": [
        {
          "output_type": "stream",
          "name": "stdout",
          "text": [
            "Testing DNN classifier...\n",
            "Test Acc: 0.8919270833333334\n",
            "DNN classifier Test complete.\n"
          ]
        }
      ],
      "source": [
        "dnn_model = VGG11().cuda()\n",
        "dnn_criterion = nn.CrossEntropyLoss()\n",
        "dnn_model.load_state_dict(torch.load(DNN_PATH))\n",
        "\n",
        "print(\"Testing DNN classifier...\")\n",
        "\n",
        "test_acc, test_loss = dnn_test(dnn_model, test_loader)\n",
        "\n",
        "print(\"Test Acc:\" , test_acc)\n",
        "print(\"DNN classifier Test complete.\")"
      ]
    },
    {
      "cell_type": "markdown",
      "metadata": {
        "id": "mwJegXCdGn9j"
      },
      "source": [
        "# Unet"
      ]
    },
    {
      "cell_type": "code",
      "execution_count": 9,
      "metadata": {
        "id": "UMNFUIGDGn9j"
      },
      "outputs": [],
      "source": [
        "class UNet(nn.Module):\n",
        "    def __init__(self):\n",
        "        super(UNet, self).__init__()\n",
        "        self.activate = nn.ReLU(inplace=True)\n",
        "        self.pool = nn.MaxPool2d((2, 2))\n",
        "        self.dropout = nn.Dropout(p=0.5)\n",
        "        self.sigmod = nn.Sigmoid ()\n",
        "        self.label_embedding = nn.Embedding(10, 512)\n",
        "\n",
        "        self.encoder_1 = nn.Sequential(\n",
        "            nn.Conv2d(1, 64, 3, padding= 1),\n",
        "            nn.ReLU(inplace=True),\n",
        "            nn.Conv2d(64, 64, 3, padding= 1),\n",
        "            nn.ReLU(inplace=True),\n",
        "        )\n",
        "\n",
        "        self.encoder_2 = nn.Sequential(\n",
        "            nn.Conv2d(64, 128, 3, padding= 1),\n",
        "            nn.ReLU(inplace=True),\n",
        "            nn.Conv2d(128, 128, 3, padding= 1),\n",
        "            nn.ReLU(inplace=True),\n",
        "        )\n",
        "\n",
        "        self.encoder_3 = nn.Sequential(\n",
        "            nn.Conv2d(128, 256, 3, padding= 1),\n",
        "            nn.ReLU(inplace=True),\n",
        "            nn.Conv2d(256, 256, 3, padding= 1),\n",
        "            nn.ReLU(inplace=True),\n",
        "        )\n",
        "\n",
        "        self.encoder_4 = nn.Sequential(\n",
        "            nn.Conv2d(256, 512, 3, padding= 1),\n",
        "            nn.ReLU(inplace=True),\n",
        "            nn.Conv2d(512, 512, 3, padding= 1),\n",
        "            nn.ReLU(inplace=True),\n",
        "        )\n",
        "        \n",
        "        self.middle_1_0 = nn.Conv2d(1024, 1024, 3, padding= 1)\n",
        "        self.middle_1_1 = nn.Conv2d(1024, 1024, 3, padding= 1)\n",
        "        \n",
        "       \n",
        "        self.deconv4_0 = nn.ConvTranspose2d(1536, 512, 3, stride=(2,2), padding = 1, output_padding = 1)\n",
        "        self.uconv4_1 = nn.Conv2d(1024, 512, 3, padding= 1) \n",
        "        self.uconv4_2 = nn.Conv2d(512, 512, 3, padding= 1)\n",
        "\n",
        "        self.deconv3_0 = nn.ConvTranspose2d(512, 512, 3, stride=(2,2), padding = 1, output_padding = 1)\n",
        "        self.uconv3_1 = nn.Conv2d(768, 256, 3, padding= 1) \n",
        "        self.uconv3_2 = nn.Conv2d(256, 256, 3, padding= 1)\n",
        "\n",
        "        self.deconv2_0 = nn.ConvTranspose2d(256, 512, 3, stride=(2,2), padding = 1, output_padding = 1)\n",
        "        self.uconv2_1 = nn.Conv2d(640, 128, 3, padding= 1) \n",
        "        self.uconv2_2 = nn.Conv2d(128, 128, 3, padding= 1)\n",
        "\n",
        "        self.deconv1_0 = nn.ConvTranspose2d(128, 512, 3, stride=(2,2), padding = 1, output_padding = 1)\n",
        "        self.uconv1_1 = nn.Conv2d(576, 192, 3, padding= 1) \n",
        "        self.uconv1_2 = nn.Conv2d(192, 192, 3, padding= 1)\n",
        "\n",
        "  \n",
        "        self.out_layer = nn.Conv2d(192, 1, 1)\n",
        "\n",
        " \n",
        "\n",
        "    def forward(self, x, input_labels, target_labels):\n",
        "        conv1 = self.encoder_1(x)\n",
        "        pool1 = self.pool(conv1)\n",
        "        pool1 = self.dropout(pool1)\n",
        "\n",
        "        conv2 = self.encoder_2(pool1)\n",
        "        pool2 = self.pool(conv2)\n",
        "        pool2 = self.dropout(pool2)\n",
        "\n",
        "        conv3 = self.encoder_3(pool2)\n",
        "        pool3 = self.pool(conv3)\n",
        "        pool3 = self.dropout(pool3)\n",
        "\n",
        "        conv4 = self.encoder_4(pool3)\n",
        "        pool4 = self.pool(conv4)\n",
        "        encoder_out = self.dropout(pool4)\n",
        "\n",
        "        input_label_embedding = self.label_embedding(input_labels).view(input_labels.size(0), 512, 1, 1)\n",
        "        x1 = torch.cat([encoder_out, input_label_embedding.expand_as(encoder_out)], dim=1)\n",
        "\n",
        "        convm = self.middle_1_0(x1)\n",
        "        convm = self.activate(convm)\n",
        "        convm = self.middle_1_1(convm)\n",
        "        x2 = self.activate(convm)\n",
        "\n",
        "        target_label_embedding = self.label_embedding(target_labels).view(target_labels.size(0), 512, 1, 1)\n",
        "        x2 = torch.cat([x2, target_label_embedding.expand(x2.size(0), 512, x2.size(2), x2.size(3))], dim=1)\n",
        "\n",
        "        deconv4 = self.deconv4_0(x2)\n",
        "        uconv4 = torch.cat([deconv4, conv4], 1)   # (None, 4, 4, 1024)\n",
        "        uconv4 = self.dropout(uconv4)\n",
        "        uconv4 = self.uconv4_1(uconv4)            # (None, 4, 4, 512)\n",
        "        uconv4 = self.activate(uconv4)\n",
        "        uconv4 = self.uconv4_2(uconv4)            # (None, 4, 4, 512)\n",
        "        uconv4 = self.activate(uconv4)\n",
        "\n",
        "        deconv3 = self.deconv3_0(uconv4)          # (None, 8, 8, 512)\n",
        "        uconv3 = torch.cat([deconv3, conv3], 1)   # (None, 8, 8, 768)\n",
        "        uconv3 = self.dropout(uconv3)\n",
        "        uconv3 = self.uconv3_1(uconv3)            # (None, 8, 8, 256)\n",
        "        uconv3 = self.activate(uconv3)\n",
        "        uconv3 = self.uconv3_2(uconv3)            # (None, 8, 8, 256)\n",
        "        uconv3 = self.activate(uconv3)\n",
        "        \n",
        "        deconv2 = self.deconv2_0(uconv3)          # (None, 16, 16, 512)\n",
        "        uconv2 = torch.cat([deconv2, conv2], 1)   # (None, 16, 16, 640)\n",
        "        uconv2 = self.dropout(uconv2)\n",
        "        uconv2 = self.uconv2_1(uconv2)            # (None, 16, 16, 128)\n",
        "        uconv2 = self.activate(uconv2)\n",
        "        uconv2 = self.uconv2_2(uconv2)            # (None, 16, 16, 128)\n",
        "        uconv2 = self.activate(uconv2)\n",
        "\n",
        "        deconv1 = self.deconv1_0(uconv2)          # (None, 32, 32, 512)\n",
        "        uconv1 = torch.cat([deconv1, conv1], 1)   # (None, 32, 32, 576)\n",
        "        uconv1 = self.dropout(uconv1)\n",
        "        uconv1 = self.uconv1_1(uconv1)            # (None, 32, 32, 192)\n",
        "        uconv1 = self.activate(uconv1)\n",
        "        uconv1 = self.uconv1_2(uconv1)            # (None, 32, 32, 192)\n",
        "        uconv1 = self.activate(uconv1)\n",
        "\n",
        "        out = self.out_layer(uconv1)\n",
        "        out = self.sigmod(out)\n",
        "\n",
        "        return out"
      ]
    },
    {
      "cell_type": "code",
      "execution_count": 10,
      "metadata": {
        "colab": {
          "base_uri": "https://localhost:8080/"
        },
        "id": "HSn-tPDfGn9j",
        "outputId": "7ef22e41-12e1-4200-9727-8bf96a4efbbe"
      },
      "outputs": [
        {
          "output_type": "stream",
          "name": "stderr",
          "text": [
            "/usr/local/lib/python3.9/dist-packages/torchvision/models/_utils.py:208: UserWarning: The parameter 'pretrained' is deprecated since 0.13 and may be removed in the future, please use 'weights' instead.\n",
            "  warnings.warn(\n",
            "/usr/local/lib/python3.9/dist-packages/torchvision/models/_utils.py:223: UserWarning: Arguments other than a weight enum or `None` for 'weights' are deprecated since 0.13 and may be removed in the future. The current behavior is equivalent to passing `weights=VGG16_Weights.IMAGENET1K_V1`. You can also use `weights=VGG16_Weights.DEFAULT` to get the most up-to-date weights.\n",
            "  warnings.warn(msg)\n"
          ]
        }
      ],
      "source": [
        "def perceptual_loss(vgg_model, input_images, output_images):\n",
        "    feature_layers = [vgg_model.features[i] for i in range(len(vgg_model.features))]\n",
        "    feature_extractor = nn.Sequential(*feature_layers[:-1]).cuda()\n",
        "    \n",
        "    input_features = feature_extractor(input_images)\n",
        "    output_features = feature_extractor(output_images)\n",
        "    \n",
        "    return nn.functional.mse_loss(input_features, output_features)\n",
        "\n",
        "\n",
        "\n",
        "def generate_synthetic_digits(digit, count):\n",
        "    all_digit_indices = np.where(train_dataset_small.dataset.targets.cpu() == digit.cpu())[0]\n",
        "    digit_indices = np.intersect1d(all_digit_indices, indices)\n",
        "    \n",
        "    if len(digit_indices) == 0:\n",
        "        raise ValueError(f\"No samples found for label {digit.item()}\")\n",
        "        \n",
        "    selected_indices = np.random.choice(digit_indices, count, replace=True)\n",
        "    synthetic_digits = torch.stack([train_dataset[i][0] for i in selected_indices])\n",
        "    return synthetic_digits\n",
        "\n",
        "vgg = models.vgg16(pretrained=True).features.eval().cuda()\n",
        "\n",
        "# Function to extract features for a batch of images using the VGG model\n",
        "def extract_features(images):\n",
        "    with torch.no_grad():\n",
        "        features = vgg(images)\n",
        "    return features.view(images.size(0), -1)\n",
        "\n",
        "\n",
        "def find_nearest_neighbor(images, target_labels, target_label, synthetic_target_digits):\n",
        "    target_images = synthetic_target_digits\n",
        "    target_images = target_images[target_labels == target_label]\n",
        "\n",
        "    # Convert the MNIST images to 3-channel format for VGG model\n",
        "    images_3channel = images.repeat(1, 3, 1, 1)\n",
        "    target_images_3channel = target_images.repeat(1, 3, 1, 1)\n",
        "\n",
        "    # Extract features for input images and target_images\n",
        "    input_features = extract_features(images_3channel)\n",
        "    target_features = extract_features(target_images_3channel)\n",
        "\n",
        "    # Compute distances between input_features and target_features\n",
        "    input_features_expanded = input_features.unsqueeze(1)\n",
        "    target_features_expanded = target_features.unsqueeze(0)\n",
        "\n",
        "    # Compute distances between input images and target_images\n",
        "    distances = (input_features_expanded - target_features_expanded).view(images.size(0), target_images.size(0), -1).norm(dim=2)\n",
        "\n",
        "    # Find the index of the input image with the smallest distance to the selected target_image\n",
        "    min_distances, min_indices = distances.min(dim=1)\n",
        "    closest_input_image_index = min_indices[min_distances.argmin()]\n",
        "\n",
        "    return target_images[min_indices[closest_input_image_index]]\n",
        "\n",
        "\n",
        "def compare_histograms(images1, images2, images3, epoch, i):\n",
        "    images1_flat = images1.reshape(-1)\n",
        "    images2_flat = images2.reshape(-1)\n",
        "    images3_flat = images3.reshape(-1)\n",
        "    \n",
        "    plt.figure()\n",
        "    plt.hist(images1_flat, bins=10, alpha=0.5, label='Original Images')\n",
        "    plt.hist(images2_flat, bins=10, alpha=0.5, label='Target Images')\n",
        "    plt.hist(images3_flat, bins=10, alpha=0.5, label='Reconstructed Images')\n",
        "    plt.legend(loc='upper right')\n",
        "    plt.savefig(\"./output/%03d/%04d_dist.png\" % ( epoch, i))\n",
        "    plt.close()"
      ]
    },
    {
      "cell_type": "code",
      "execution_count": 13,
      "metadata": {
        "id": "dnphmpuKGn9j"
      },
      "outputs": [],
      "source": [
        "# Training loop\n",
        "if (Train_Unet):\n",
        "    # Initialize model, loss, and optimizer\n",
        "    model = UNet().cuda()\n",
        "    dnn_model = VGG11().cuda()\n",
        "    dnn_model.load_state_dict(torch.load(DNN_PATH))\n",
        "    dnn_criterion = nn.CrossEntropyLoss()\n",
        "\n",
        "    # Freeze the DNN classifier weights\n",
        "    for param in dnn_model.parameters():\n",
        "        param.requires_grad = False\n",
        "\n",
        "    # Hyperparameters\n",
        "    alpha, beta = 0.5, 0.3\n",
        "\n",
        "    learning_rate = 1e-4\n",
        "    step_size = 60\n",
        "    gamma = 0.1\n",
        "\n",
        "    criterion = nn.BCELoss()\n",
        "    optimizer = torch.optim.Adam(model.parameters(), lr=learning_rate)\n",
        "    scheduler = StepLR(optimizer, step_size=step_size, gamma=gamma)\n",
        "\n",
        "    loss_history = []\n",
        "    for epoch in range(num_epochs):\n",
        "        print(f'Epoch {epoch + 1}/{num_epochs}')\n",
        "        epoch_loss = 0\n",
        "        for i, (images, labels) in enumerate(train_loader):\n",
        "            images = images.cuda()\n",
        "            labels = labels.cuda()\n",
        "\n",
        "            target_labels = (labels + torch.randint(1, 9, size=(labels.size(0),)).cuda()) % 10\n",
        "\n",
        "            outputs = model(images, labels, target_labels)\n",
        "            \n",
        "            # Generate target images (same digit as target labels)\n",
        "            # eroded_images = erode_images(images)\n",
        "            synthetic_target_digits = torch.cat([generate_synthetic_digits(d, 1) for d in target_labels]).cuda()\n",
        "\n",
        "            # Generate target images (same digit as target labels)\n",
        "            target_images = images.clone()\n",
        "            for j in range(labels.size(0)):\n",
        "               target_images[j] = find_nearest_neighbor(images, target_labels, target_labels[j], synthetic_target_digits)\n",
        "\n",
        "            # Compute reconstruction loss\n",
        "            reconstruction_loss = criterion(outputs, target_images)\n",
        "\n",
        "            # Train the classifier on the reconstructed images\n",
        "            classifier_outputs = dnn_model(outputs)\n",
        "            classification_loss = dnn_criterion(classifier_outputs, target_labels)\n",
        "            loss_on_loss = torch.abs(test_loss - classification_loss)\n",
        "            p_loss = perceptual_loss(dnn_model, images, outputs)\n",
        "\n",
        "            # Total loss\n",
        "            total_loss = 10 * reconstruction_loss + alpha * classification_loss + beta * p_loss + loss_on_loss\n",
        "            epoch_loss += total_loss.item()\n",
        "\n",
        "            # Backward pass and optimization\n",
        "            optimizer.zero_grad()\n",
        "            total_loss.backward()\n",
        "            optimizer.step()\n",
        "\n",
        "            if (i ) % 4 == 0:\n",
        "                print(f'Step [{i + 1}/{len(train_loader)}]', end = ', ')\n",
        "                print('loss:' , total_loss.data.cpu().numpy(), \n",
        "                      'recon loss:', 10 * reconstruction_loss.data.cpu().numpy(), \n",
        "                      'dnn loss:', alpha * classification_loss.data.cpu().numpy(),\n",
        "                      'loss on loss:', loss_on_loss.data.cpu().numpy(),\n",
        "                      'p_loss:', beta * p_loss.data.cpu().numpy())\n",
        "                \n",
        "                save_image(outputs.data, './output/%03d/%04d_recon.png' % ( epoch, i))\n",
        "                save_image(images.data, './output/%03d/%04d_img.png' % ( epoch, i))\n",
        "                save_image(target_images.data, './output/%03d/%04d_target.png' % ( epoch, i))\n",
        "\n",
        "                # Convert the images to NumPy arrays\n",
        "                images_np = images.cpu().numpy()\n",
        "                target_images_np = target_images.cpu().numpy()\n",
        "                reconstructed_images_np = outputs.detach().cpu().numpy()\n",
        "\n",
        "                compare_histograms(images_np, target_images_np, reconstructed_images_np, epoch, i)\n",
        "\n",
        "        loss_history.append(epoch_loss)\n",
        "        scheduler.step()\n",
        "\n",
        "    torch.save(model.state_dict(), UNET_PATH)\n",
        "    plt.plot(range(0, num_epochs), loss_history)"
      ]
    },
    {
      "cell_type": "markdown",
      "metadata": {
        "id": "OzMw4RfhGn9k"
      },
      "source": [
        "# Testing"
      ]
    },
    {
      "cell_type": "code",
      "source": [
        "model = UNet().cuda()\n",
        "model.load_state_dict(torch.load(UNET_PATH))"
      ],
      "metadata": {
        "id": "GbrjXAtrb6WT",
        "outputId": "23201907-aa0e-40a8-bf6f-bc8f41bd5bbe",
        "colab": {
          "base_uri": "https://localhost:8080/"
        }
      },
      "execution_count": 16,
      "outputs": [
        {
          "output_type": "execute_result",
          "data": {
            "text/plain": [
              "<All keys matched successfully>"
            ]
          },
          "metadata": {},
          "execution_count": 16
        }
      ]
    },
    {
      "cell_type": "code",
      "execution_count": 17,
      "metadata": {
        "id": "-JEYneuBGn9k"
      },
      "outputs": [],
      "source": [
        "def generate_augmented_test_images(model, test_loader, num_augmented_images=1000):\n",
        "    augmented_images = []\n",
        "    augmented_labels = []\n",
        "    \n",
        "    with torch.no_grad():\n",
        "        for images, labels in test_loader:\n",
        "            images = images.cuda()\n",
        "            labels = labels.cuda()\n",
        "\n",
        "            target_labels = (labels + torch.randint(1, 9, size=(labels.size(0),)).cuda()) % 10\n",
        "            outputs = model(images, labels, target_labels)\n",
        "            \n",
        "            augmented_images.append(outputs.cpu())\n",
        "            augmented_labels.append(target_labels.cpu())\n",
        "            \n",
        "            if len(augmented_images) * labels.size(0) >= num_augmented_images:\n",
        "                break\n",
        "    \n",
        "    augmented_images = torch.cat(augmented_images)[:num_augmented_images]\n",
        "    augmented_labels = torch.cat(augmented_labels)[:num_augmented_images]\n",
        "    \n",
        "    return augmented_images, augmented_labels\n",
        "\n",
        "augmented_test_images, augmented_test_labels = generate_augmented_test_images(model, test_loader)\n"
      ]
    },
    {
      "cell_type": "code",
      "execution_count": 18,
      "metadata": {
        "colab": {
          "base_uri": "https://localhost:8080/"
        },
        "id": "-neAjXJqGn9k",
        "outputId": "8120bd96-0797-4e2b-cfa8-ce38408dee6a"
      },
      "outputs": [
        {
          "output_type": "stream",
          "name": "stderr",
          "text": [
            "<ipython-input-18-eb2004024aa3>:4: UserWarning: To copy construct from a tensor, it is recommended to use sourceTensor.clone().detach() or sourceTensor.clone().detach().requires_grad_(True), rather than torch.tensor(sourceTensor).\n",
            "  train_labels = torch.cat([torch.tensor(train_dataset_small.dataset.targets )[indices], augmented_test_labels])\n"
          ]
        }
      ],
      "source": [
        "resized_train_images = torch.stack([train_dataset_small.dataset[i][0] for i in indices])\n",
        "    \n",
        "train_images = torch.cat([resized_train_images, augmented_test_images])\n",
        "train_labels = torch.cat([torch.tensor(train_dataset_small.dataset.targets )[indices], augmented_test_labels])"
      ]
    },
    {
      "cell_type": "code",
      "execution_count": 19,
      "metadata": {
        "id": "vs9U8uFZGn9k"
      },
      "outputs": [],
      "source": [
        "train_dataset_extended = TensorDataset(train_images, train_labels)\n",
        "train_loader_extended = DataLoader(train_dataset_extended, batch_size=BATCH_SIZE, shuffle=True, drop_last=True)"
      ]
    },
    {
      "cell_type": "code",
      "execution_count": 25,
      "metadata": {
        "colab": {
          "base_uri": "https://localhost:8080/"
        },
        "id": "r5_B-WE7Gn9k",
        "outputId": "af547fa3-67a9-48ad-86bd-10a96cb126e6"
      },
      "outputs": [
        {
          "output_type": "stream",
          "name": "stdout",
          "text": [
            "Epoch 2/300, acc: 0.5559895833333334 test_acc: 0.7957732371794872\n",
            "Epoch 4/300, acc: 0.671875 test_acc: 0.7519030448717948\n",
            "Epoch 6/300, acc: 0.8216145833333334 test_acc: 0.8388421474358975\n",
            "Epoch 8/300, acc: 0.9264322916666666 test_acc: 0.8704927884615384\n",
            "Epoch 10/300, acc: 0.9134114583333334 test_acc: 0.8870192307692307\n",
            "Epoch 12/300, acc: 0.9466145833333334 test_acc: 0.8887219551282052\n",
            "Epoch 14/300, acc: 0.9641927083333334 test_acc: 0.8889222756410257\n",
            "Epoch 16/300, acc: 0.9694010416666666 test_acc: 0.8966346153846154\n",
            "Epoch 18/300, acc: 0.9713541666666666 test_acc: 0.8972355769230769\n",
            "Epoch 20/300, acc: 0.974609375 test_acc: 0.8986378205128205\n",
            "Epoch 22/300, acc: 0.9752604166666666 test_acc: 0.9013421474358975\n",
            "Epoch 24/300, acc: 0.9798177083333334 test_acc: 0.9030448717948718\n",
            "Epoch 26/300, acc: 0.9850260416666666 test_acc: 0.9046474358974359\n",
            "Epoch 28/300, acc: 0.9869791666666666 test_acc: 0.9019431089743589\n",
            "Epoch 30/300, acc: 0.9895833333333334 test_acc: 0.9051482371794872\n",
            "Epoch 32/300, acc: 0.9895833333333334 test_acc: 0.9044471153846154\n",
            "Epoch 34/300, acc: 0.9915364583333334 test_acc: 0.9059495192307693\n",
            "Epoch 36/300, acc: 0.994140625 test_acc: 0.905448717948718\n",
            "Epoch 38/300, acc: 0.99609375 test_acc: 0.9096554487179487\n",
            "Epoch 40/300, acc: 0.9954427083333334 test_acc: 0.9088541666666666\n",
            "Epoch 42/300, acc: 0.99609375 test_acc: 0.9092548076923077\n",
            "Epoch 44/300, acc: 0.99609375 test_acc: 0.9092548076923077\n",
            "Epoch 46/300, acc: 0.9973958333333334 test_acc: 0.9107572115384616\n",
            "Epoch 48/300, acc: 0.9986979166666666 test_acc: 0.9110576923076923\n",
            "Epoch 50/300, acc: 0.9967447916666666 test_acc: 0.9111578525641025\n",
            "Epoch 52/300, acc: 0.9986979166666666 test_acc: 0.9086538461538461\n",
            "Epoch 54/300, acc: 0.998046875 test_acc: 0.9106570512820513\n",
            "Epoch 56/300, acc: 0.998046875 test_acc: 0.9119591346153846\n",
            "Epoch 58/300, acc: 0.9986979166666666 test_acc: 0.9098557692307693\n",
            "Epoch 60/300, acc: 0.9986979166666666 test_acc: 0.9105568910256411\n",
            "Epoch 62/300, acc: 0.9986979166666666 test_acc: 0.9114583333333334\n",
            "Epoch 64/300, acc: 0.9993489583333334 test_acc: 0.9121594551282052\n",
            "Epoch 66/300, acc: 1.0 test_acc: 0.9105568910256411\n",
            "Epoch 68/300, acc: 1.0 test_acc: 0.9123597756410257\n",
            "Epoch 70/300, acc: 1.0 test_acc: 0.9113581730769231\n",
            "Epoch 72/300, acc: 1.0 test_acc: 0.9117588141025641\n",
            "Epoch 74/300, acc: 1.0 test_acc: 0.9116586538461539\n",
            "Epoch 76/300, acc: 1.0 test_acc: 0.9110576923076923\n",
            "Epoch 78/300, acc: 1.0 test_acc: 0.9115584935897436\n",
            "Epoch 80/300, acc: 1.0 test_acc: 0.9114583333333334\n",
            "Epoch 82/300, acc: 1.0 test_acc: 0.9116586538461539\n",
            "Epoch 84/300, acc: 1.0 test_acc: 0.9112580128205128\n",
            "Epoch 86/300, acc: 1.0 test_acc: 0.9111578525641025\n",
            "Epoch 88/300, acc: 1.0 test_acc: 0.910957532051282\n",
            "Epoch 90/300, acc: 1.0 test_acc: 0.9115584935897436\n",
            "Epoch 92/300, acc: 1.0 test_acc: 0.9110576923076923\n",
            "Epoch 94/300, acc: 1.0 test_acc: 0.9108573717948718\n",
            "Epoch 96/300, acc: 1.0 test_acc: 0.9111578525641025\n",
            "Epoch 98/300, acc: 1.0 test_acc: 0.9108573717948718\n",
            "Epoch 100/300, acc: 1.0 test_acc: 0.9116586538461539\n",
            "Epoch 102/300, acc: 1.0 test_acc: 0.9118589743589743\n",
            "Epoch 104/300, acc: 1.0 test_acc: 0.9116586538461539\n",
            "Epoch 106/300, acc: 1.0 test_acc: 0.9116586538461539\n",
            "Epoch 108/300, acc: 1.0 test_acc: 0.9111578525641025\n",
            "Epoch 110/300, acc: 1.0 test_acc: 0.9117588141025641\n",
            "Epoch 112/300, acc: 1.0 test_acc: 0.9116586538461539\n",
            "Epoch 114/300, acc: 1.0 test_acc: 0.9115584935897436\n",
            "Epoch 116/300, acc: 1.0 test_acc: 0.9117588141025641\n",
            "Epoch 118/300, acc: 1.0 test_acc: 0.9119591346153846\n",
            "Epoch 120/300, acc: 1.0 test_acc: 0.9120592948717948\n",
            "Epoch 122/300, acc: 1.0 test_acc: 0.9117588141025641\n",
            "Epoch 124/300, acc: 1.0 test_acc: 0.9122596153846154\n",
            "Epoch 126/300, acc: 1.0 test_acc: 0.9121594551282052\n",
            "Epoch 128/300, acc: 1.0 test_acc: 0.9117588141025641\n",
            "Epoch 130/300, acc: 1.0 test_acc: 0.9119591346153846\n",
            "Epoch 132/300, acc: 1.0 test_acc: 0.9122596153846154\n",
            "Epoch 134/300, acc: 1.0 test_acc: 0.9122596153846154\n",
            "Epoch 136/300, acc: 1.0 test_acc: 0.9118589743589743\n",
            "Epoch 138/300, acc: 1.0 test_acc: 0.9122596153846154\n",
            "Epoch 140/300, acc: 1.0 test_acc: 0.9126602564102564\n",
            "Epoch 142/300, acc: 1.0 test_acc: 0.9118589743589743\n",
            "Epoch 144/300, acc: 1.0 test_acc: 0.9124599358974359\n",
            "Epoch 146/300, acc: 1.0 test_acc: 0.9122596153846154\n",
            "Epoch 148/300, acc: 1.0 test_acc: 0.9122596153846154\n",
            "Epoch 150/300, acc: 1.0 test_acc: 0.9120592948717948\n",
            "Epoch 152/300, acc: 1.0 test_acc: 0.9120592948717948\n",
            "Epoch 154/300, acc: 1.0 test_acc: 0.9120592948717948\n",
            "Epoch 156/300, acc: 1.0 test_acc: 0.9120592948717948\n",
            "Epoch 158/300, acc: 1.0 test_acc: 0.9120592948717948\n",
            "Epoch 160/300, acc: 1.0 test_acc: 0.9122596153846154\n",
            "Epoch 162/300, acc: 1.0 test_acc: 0.9119591346153846\n",
            "Epoch 164/300, acc: 1.0 test_acc: 0.9122596153846154\n",
            "Epoch 166/300, acc: 1.0 test_acc: 0.9120592948717948\n",
            "Epoch 168/300, acc: 1.0 test_acc: 0.9119591346153846\n",
            "Epoch 170/300, acc: 1.0 test_acc: 0.9121594551282052\n",
            "Epoch 172/300, acc: 1.0 test_acc: 0.9121594551282052\n",
            "Epoch 174/300, acc: 1.0 test_acc: 0.9123597756410257\n",
            "Epoch 176/300, acc: 1.0 test_acc: 0.9121594551282052\n",
            "Epoch 178/300, acc: 1.0 test_acc: 0.9120592948717948\n",
            "Epoch 180/300, acc: 1.0 test_acc: 0.9120592948717948\n",
            "Epoch 182/300, acc: 1.0 test_acc: 0.9120592948717948\n",
            "Epoch 184/300, acc: 1.0 test_acc: 0.9121594551282052\n",
            "Epoch 186/300, acc: 1.0 test_acc: 0.9121594551282052\n",
            "Epoch 188/300, acc: 1.0 test_acc: 0.9121594551282052\n",
            "Epoch 190/300, acc: 1.0 test_acc: 0.9124599358974359\n",
            "Epoch 192/300, acc: 1.0 test_acc: 0.9121594551282052\n",
            "Epoch 194/300, acc: 1.0 test_acc: 0.9121594551282052\n",
            "Epoch 196/300, acc: 1.0 test_acc: 0.9119591346153846\n",
            "Epoch 198/300, acc: 1.0 test_acc: 0.9122596153846154\n",
            "Epoch 200/300, acc: 1.0 test_acc: 0.9124599358974359\n",
            "Epoch 202/300, acc: 1.0 test_acc: 0.9122596153846154\n",
            "Epoch 204/300, acc: 1.0 test_acc: 0.9123597756410257\n",
            "Epoch 206/300, acc: 1.0 test_acc: 0.9122596153846154\n",
            "Epoch 208/300, acc: 1.0 test_acc: 0.9122596153846154\n",
            "Epoch 210/300, acc: 1.0 test_acc: 0.9120592948717948\n",
            "Epoch 212/300, acc: 1.0 test_acc: 0.9124599358974359\n",
            "Epoch 214/300, acc: 1.0 test_acc: 0.9122596153846154\n",
            "Epoch 216/300, acc: 1.0 test_acc: 0.9125600961538461\n",
            "Epoch 218/300, acc: 1.0 test_acc: 0.9124599358974359\n",
            "Epoch 220/300, acc: 1.0 test_acc: 0.9123597756410257\n",
            "Epoch 222/300, acc: 1.0 test_acc: 0.9122596153846154\n",
            "Epoch 224/300, acc: 1.0 test_acc: 0.9123597756410257\n",
            "Epoch 226/300, acc: 1.0 test_acc: 0.9124599358974359\n",
            "Epoch 228/300, acc: 1.0 test_acc: 0.9122596153846154\n",
            "Epoch 230/300, acc: 1.0 test_acc: 0.9124599358974359\n",
            "Epoch 232/300, acc: 1.0 test_acc: 0.9124599358974359\n",
            "Epoch 234/300, acc: 1.0 test_acc: 0.9122596153846154\n",
            "Epoch 236/300, acc: 1.0 test_acc: 0.9125600961538461\n",
            "Epoch 238/300, acc: 1.0 test_acc: 0.9126602564102564\n",
            "Epoch 240/300, acc: 1.0 test_acc: 0.9124599358974359\n",
            "Epoch 242/300, acc: 1.0 test_acc: 0.9124599358974359\n",
            "Epoch 244/300, acc: 1.0 test_acc: 0.9123597756410257\n",
            "Epoch 246/300, acc: 1.0 test_acc: 0.9124599358974359\n",
            "Epoch 248/300, acc: 1.0 test_acc: 0.9121594551282052\n",
            "Epoch 250/300, acc: 1.0 test_acc: 0.9120592948717948\n",
            "Epoch 252/300, acc: 1.0 test_acc: 0.9123597756410257\n",
            "Epoch 254/300, acc: 1.0 test_acc: 0.9122596153846154\n",
            "Epoch 256/300, acc: 1.0 test_acc: 0.9120592948717948\n",
            "Epoch 258/300, acc: 1.0 test_acc: 0.9122596153846154\n",
            "Epoch 260/300, acc: 1.0 test_acc: 0.9122596153846154\n",
            "Epoch 262/300, acc: 1.0 test_acc: 0.9121594551282052\n",
            "Epoch 264/300, acc: 1.0 test_acc: 0.9121594551282052\n",
            "Epoch 266/300, acc: 1.0 test_acc: 0.9119591346153846\n",
            "Epoch 268/300, acc: 1.0 test_acc: 0.9119591346153846\n",
            "Epoch 270/300, acc: 1.0 test_acc: 0.9120592948717948\n",
            "Epoch 272/300, acc: 1.0 test_acc: 0.9119591346153846\n",
            "Epoch 274/300, acc: 1.0 test_acc: 0.9119591346153846\n",
            "Epoch 276/300, acc: 1.0 test_acc: 0.9123597756410257\n",
            "Epoch 278/300, acc: 1.0 test_acc: 0.9122596153846154\n",
            "Epoch 280/300, acc: 1.0 test_acc: 0.9119591346153846\n",
            "Epoch 282/300, acc: 1.0 test_acc: 0.9120592948717948\n",
            "Epoch 284/300, acc: 1.0 test_acc: 0.9121594551282052\n",
            "Epoch 286/300, acc: 1.0 test_acc: 0.9117588141025641\n",
            "Epoch 288/300, acc: 1.0 test_acc: 0.9120592948717948\n",
            "Epoch 290/300, acc: 1.0 test_acc: 0.9120592948717948\n",
            "Epoch 292/300, acc: 1.0 test_acc: 0.9120592948717948\n",
            "Epoch 294/300, acc: 1.0 test_acc: 0.9121594551282052\n",
            "Epoch 296/300, acc: 1.0 test_acc: 0.9119591346153846\n",
            "Epoch 298/300, acc: 1.0 test_acc: 0.9122596153846154\n",
            "Epoch 300/300, acc: 1.0 test_acc: 0.9122596153846154\n"
          ]
        }
      ],
      "source": [
        "dnn_model = VGG11().cuda()\n",
        "criterion = nn.CrossEntropyLoss()\n",
        "dnn_model.load_state_dict(torch.load(DNN_PATH))\n",
        "optimizer = torch.optim.Adam(dnn_model.parameters(), lr=1e-4)\n",
        "\n",
        "# Training loop for the new classifier\n",
        "acc_history_1 = []\n",
        "test_acc_history_1 = []\n",
        "for epoch in range(300):\n",
        "    total_correct = 0\n",
        "    total = 0\n",
        "    for i, (images, labels) in enumerate(train_loader_extended):\n",
        "        images = images.cuda()\n",
        "        labels = labels.cuda()\n",
        "\n",
        "        # Forward pass\n",
        "        outputs = dnn_model(images)\n",
        "        loss = criterion(outputs, labels)\n",
        "\n",
        "        # Backward pass and optimization\n",
        "        optimizer.zero_grad()\n",
        "        loss.backward()\n",
        "        optimizer.step()\n",
        "\n",
        "        _, pred = torch.max(outputs, 1)\n",
        "        correct = pred.eq(labels).cpu().sum().item()\n",
        "        total_correct += correct\n",
        "        total += labels.size(0)\n",
        "    \n",
        "    acc_history_1.append(total_correct / total)\n",
        "    test_acc_history_1.append(dnn_test(dnn_model, test_loader)[0])\n",
        "\n",
        "    if((epoch + 1) % 2 == 0):\n",
        "            print(f'Epoch {epoch + 1}/{dnn_epoch}', end = ', ')\n",
        "            print('acc:',acc_history_1[-1], 'test_acc:', test_acc_history_1[-1])\n"
      ]
    },
    {
      "cell_type": "code",
      "execution_count": 27,
      "metadata": {
        "colab": {
          "base_uri": "https://localhost:8080/",
          "height": 453
        },
        "id": "ObwI8aRTGn9k",
        "outputId": "4ef24e9f-ba36-40ea-ca44-34b633a9b4ab"
      },
      "outputs": [
        {
          "output_type": "execute_result",
          "data": {
            "text/plain": [
              "(0.0, 1.0)"
            ]
          },
          "metadata": {},
          "execution_count": 27
        },
        {
          "output_type": "display_data",
          "data": {
            "text/plain": [
              "<Figure size 640x480 with 1 Axes>"
            ],
            "image/png": "[encoded data removed]"
          },
          "metadata": {}
        }
      ],
      "source": [
        "plt.plot(range(0, 300), acc_history_1)\n",
        "plt.plot(range(0, 300), test_acc_history_1)\n",
        "plt.ylim(0, 1)"
      ]
    },
    {
      "cell_type": "code",
      "execution_count": 29,
      "metadata": {
        "id": "gcIuL4ocVxOu"
      },
      "outputs": [],
      "source": [
        "import pandas as pd\n",
        "\n",
        "d = {'train_aug_on_org': acc_history_1, 'test_aug_on_org': test_acc_history_1}\n",
        "df = pd.DataFrame(d)\n",
        "\n",
        "df.to_csv('./acc_on_org.csv')"
      ]
    },
    {
      "cell_type": "code",
      "execution_count": null,
      "metadata": {
        "id": "76OuITJwVvjD"
      },
      "outputs": [],
      "source": [
        "plt.plot(range(0, dnn_epoch), acc_history)\n",
        "plt.plot(range(0, 20), acc_history_1)\n",
        "plt.title(\"Train Acc on 1% of data\")\n",
        "plt.legend(['orginal', 'augmentation'])\n",
        "plt.ylim(0, 1)"
      ]
    },
    {
      "cell_type": "code",
      "execution_count": null,
      "metadata": {
        "id": "mJDeRR1jUdap"
      },
      "outputs": [],
      "source": [
        "plt.plot(range(0, dnn_epoch), test_acc_history)\n",
        "plt.plot(range(0, 20), test_acc_history_1)\n",
        "plt.title(\"Test Acc on 1% of data\")\n",
        "plt.legend(['orginal', 'augmentation'])\n",
        "plt.ylim(0, 1)"
      ]
    },
    {
      "cell_type": "markdown",
      "metadata": {
        "id": "PPg4EG6PGn9k"
      },
      "source": [
        "# Unet Recon Img "
      ]
    },
    {
      "cell_type": "code",
      "execution_count": null,
      "metadata": {
        "id": "7HOjVwr6Gn9k"
      },
      "outputs": [],
      "source": [
        "image = plt.imread('./output/%03d/0000_img.png'% (num_epochs -1))\n",
        "plt.figure(figsize = (10,10))\n",
        "plt.imshow(image)"
      ]
    },
    {
      "cell_type": "code",
      "execution_count": null,
      "metadata": {
        "id": "c-xkZxocGn9k"
      },
      "outputs": [],
      "source": [
        "image = plt.imread('./output/%03d/0000_recon.png'% (num_epochs -1))\n",
        "plt.figure(figsize = (10,10))\n",
        "plt.imshow(image)"
      ]
    },
    {
      "cell_type": "code",
      "execution_count": null,
      "metadata": {
        "id": "MTCN8xO0HXt2"
      },
      "outputs": [],
      "source": [
        "image = plt.imread('./output/%03d/0000_target.png'% (num_epochs -1))\n",
        "plt.figure(figsize = (10,10))\n",
        "plt.imshow(image)"
      ]
    },
    {
      "cell_type": "code",
      "execution_count": null,
      "metadata": {
        "id": "OZnZeX7iGn9k"
      },
      "outputs": [],
      "source": [
        "image = plt.imread('./output/%03d/0000_dist.png'% (num_epochs -1))\n",
        "plt.figure(figsize = (8,8))\n",
        "plt.imshow(image)"
      ]
    },
    {
      "cell_type": "code",
      "execution_count": null,
      "metadata": {
        "id": "jVva7OwZA7_0"
      },
      "outputs": [],
      "source": [
        "import pandas as pd\n",
        "\n",
        "d = {'train': acc_history, 'train_aug': acc_history_1, 'test': test_acc_history, 'test_aug': test_acc_history_1}\n",
        "df = pd.DataFrame(d)\n",
        "\n",
        "df.to_csv('./acc.csv')"
      ]
    }
  ],
  "metadata": {
    "accelerator": "GPU",
    "colab": {
      "provenance": []
    },
    "gpuClass": "standard",
    "kernelspec": {
      "display_name": "Python 3",
      "name": "python3"
    },
    "language_info": {
      "name": "python"
    },
    "orig_nbformat": 4
  },
  "nbformat": 4,
  "nbformat_minor": 0
}